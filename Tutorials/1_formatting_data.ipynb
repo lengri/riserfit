{
 "cells": [
  {
   "cell_type": "markdown",
   "id": "4b8e1042-2498-4458-a9c5-1422737a5a0a",
   "metadata": {},
   "source": [
    "### Formatting data to feed into riserfit\n",
    "This scripts gives an example of how riser profiles can be extracted from a DEM. The files necessary for this tutorial are located in the Tutorials\\Data folder. riserfit provides one big wrapper function to build up riser profiles from DEMs: `rf.construct_z_profiles_from_centerpoints()` should work for most applications. It requires an input DEM file and **a .csv file containing x and y centerpoints at the desired riser locations**. Two examples of such files are supplied in the Data\\Risers\\Midpoints directory. Running `rf.construct_z_profiles_from_centerpoints()` generates a list of pandas dataframes, one for each profile, and a list of names to identify the dataframes.\n",
    "\n",
    "The next step is convert this somewhat annoying list of dataframes into a `rf.Riser` instance. This is the main class of the riserfit package. It has a plethora of methods that work on arbitrarily long lists of riser profiles and thus take a lot of `for`-looping overhead away from the user. For ease of use, this `rf.Riser` instance can be saved to a compressed file and loaded directly, avoiding the need to repreatedly extract profiles from the DEM. It also saves all your progress: if you have calculated linear diffusion ages once and save the `rf.Riser` instance, you can load the instance and access the diffusion ages directly!\n",
    "\n",
    "To make use of this fact, we add some fancy `try`-`except` to our script: If our little script can find the `Riser` instances, there's no need to run `rf.construct_z_profiles_from_centerpoints()`. **Just remember: If you want to change parameters but keep the instance names the same, the script won't actually do anything. You need to delete the old instances first - or rename them!**"
   ]
  },
  {
   "cell_type": "code",
   "execution_count": 6,
   "id": "9143d9ce-25d6-484d-b169-52574a21899a",
   "metadata": {},
   "outputs": [],
   "source": [
    "# Some imports\n",
    "import riserfit as rf\n",
    "import os\n",
    "import matplotlib.pyplot as plt"
   ]
  },
  {
   "cell_type": "code",
   "execution_count": 7,
   "id": "cc453655-f0f2-446c-9914-fac823821ee0",
   "metadata": {},
   "outputs": [
    {
     "name": "stdout",
     "output_type": "stream",
     "text": [
      "Found existing Riser instances!\n"
     ]
    }
   ],
   "source": [
    "# set working directory and parameters\n",
    "os.chdir(r\"C:\\\\Users\\\\Lennart\\\\lennartGit\\\\personal\\\\riserfit\\\\Tutorials\")\n",
    "\n",
    "RASTERNAME = r\"\\\\Data\\\\DEM\\\\terraces.tif\"\n",
    "SPACING_DX = 0.5 # in m\n",
    "N_POINTS = 80 # points projected out from the centerpoint. Total n of points is 2*N_POINTS + 1\n",
    "SWATH_NUMBER = 2 # number of parallel lines used to average each profile\n",
    "SWATH_SPACING = 1 # in m\n",
    "\n",
    "# Relative paths to the .csv files containing your midpoint x, y data\n",
    "terraces = [\"T7\", \"T3\"]\n",
    "fnames = [f\"\\\\Data\\\\Risers\\\\Midpoints\\\\midpoints_{t}.csv\" for t in terraces]\n",
    "\n",
    "instance_list = []\n",
    "try: # try to find the riser instances!\n",
    "    \n",
    "    for t in terraces:\n",
    "        \n",
    "        instance_list.append(\n",
    "            rf.load_instance(f\"\\\\Data\\\\Risers\\\\Instances\\\\{t}_Riser_instance.gz\") # this is the default instance name\n",
    "        )\n",
    "    print(\"Found existing Riser instances!\")\n",
    "    \n",
    "except: # Do the heavy lifting\n",
    "    \n",
    "    for t, fn in zip(terraces, fnames):\n",
    "    \n",
    "        # create a list of pandas dataframes, one for each riser profile\n",
    "        dfs, names = rf.construct_z_profiles_from_centerpoints(\n",
    "            rasterpath=RASTERNAME, # relative path from current wd\n",
    "            pointfilepath=fn, # relative path from current wd\n",
    "            n_points=N_POINTS,\n",
    "            spacing=SPACING_DX,\n",
    "            swath_number=SWATH_NUMBER,\n",
    "            swath_spacing=SWATH_SPACING,\n",
    "            smooth_first=True, # this is only used to calculate the steepest gradient, it doesn't affect the profiles!\n",
    "            method=\"linear\", # interpolation method to extract elevation values\n",
    "            savedir=f\"\\\\Data\\\\Risers\\\\Profiles\\\\{t}\\\\\" # where to save the created csv files\n",
    "        )\n",
    "        \n",
    "        # create Riser instance from the list of dataframes\n",
    "        riser = rf.initialize_riser_class(\n",
    "            dfs, names, \"x\", \"y\", identifier=t\n",
    "        )\n",
    "        # save to .gz file, note that this is now an instance method!\n",
    "        riser.save_instance(\n",
    "            r\"\\\\Data\\\\Risers\\\\Instances\\\\\"\n",
    "        )\n",
    "        instance_list.append(riser)"
   ]
  },
  {
   "cell_type": "markdown",
   "id": "fd829941-ab7d-4003-acd1-ce90cba9d6f1",
   "metadata": {},
   "source": [
    "If you execute the cell above two times, it will only display the processing message the first time. The second time it should display the \"Found existing Riser instances\" message. This setup drastically improves execution times for datasets with many riser profiles and for large DEMs."
   ]
  },
  {
   "cell_type": "markdown",
   "id": "f1ee6cf6-ff59-4175-9111-01c3d536a529",
   "metadata": {},
   "source": [
    "### Data formatting inside riserfit\n",
    "Within riserfit, all data is stored attached to each Riser instance in the form of parameters. Every parameter is a list, every list has the length of `however many profiles there are`. The contents of various lists can be very different: `floats`, `strings`, or more `lists` and/or `np.ndarrays`"
   ]
  },
  {
   "cell_type": "code",
   "execution_count": 8,
   "id": "dc45b1b6-941b-45d3-a558-ac3266859bbe",
   "metadata": {},
   "outputs": [
    {
     "name": "stdout",
     "output_type": "stream",
     "text": [
      "[<riserfit.profiles.Riser object at 0x000002780C300A90>, <riserfit.profiles.Riser object at 0x000002780C300EE0>]\n",
      "['T7-1', 'T7-2', 'T7-3', 'T7-4', 'T7-5', 'T7-6', 'T7-7', 'T7-8', 'T7-9', 'T7-10', 'T7-11', 'T7-12', 'T7-13', 'T7-14', 'T7-15', 'T7-16', 'T7-17', 'T7-18', 'T7-19', 'T7-20', 'T7-21', 'T7-22', 'T7-23', 'T7-24', 'T7-25', 'T7-26', 'T7-27', 'T7-28', 'T7-29']\n",
      "[]\n",
      "[]\n",
      "[-36.5 -36.  -35.5 -35.  -34.5 -34.  -33.5 -33.  -32.5 -32.  -31.5 -31.\n",
      " -30.5 -30.  -29.5 -29.  -28.5 -28.  -27.5 -27.  -26.5 -26.  -25.5 -25.\n",
      " -24.5 -24.  -23.5 -23.  -22.5 -22.  -21.5 -21.  -20.5 -20.  -19.5 -19.\n",
      " -18.5 -18.  -17.5 -17.  -16.5 -16.  -15.5 -15.  -14.5 -14.  -13.5 -13.\n",
      " -12.5 -12.  -11.5 -11.  -10.5 -10.   -9.5  -9.   -8.5  -8.   -7.5  -7.\n",
      "  -6.5  -6.   -5.5  -5.   -4.5  -4.   -3.5  -3.   -2.5  -2.   -1.5  -1.\n",
      "  -0.5   0.    0.5   1.    1.5   2.    2.5   3.    3.5   4.    4.5   5.\n",
      "   5.5   6.    6.5   7.    7.5   8.    8.5   9.    9.5  10.   10.5  11.\n",
      "  11.5  12.   12.5  13.   13.5  14.   14.5  15.   15.5  16.   16.5  17.\n",
      "  17.5  18.   18.5  19.   19.5  20.   20.5  21.   21.5  22.   22.5  23.\n",
      "  23.5  24.   24.5  25.   25.5  26.   26.5  27.   27.5  28.   28.5  29.\n",
      "  29.5  30.   30.5  31.   31.5  32.   32.5  33.   33.5  34.   34.5  35.\n",
      "  35.5  36.   36.5  37.   37.5  38.   38.5  39.   39.5  40.   40.5  41.\n",
      "  41.5  42.   42.5  43.   43.5]\n",
      "[-2.13041695 -2.13944747 -2.14431676 -2.14791194 -2.15297715 -2.15296911\n",
      " -2.14483312 -2.13933078 -2.14400373 -2.1519341  -2.15625712 -2.15434415\n",
      " -2.15195428 -2.14818047 -2.14226589 -2.13632336 -2.12805708 -2.11770905\n",
      " -2.11188231 -2.10802083 -2.09833257 -2.08731357 -2.07884951 -2.07297582\n",
      " -2.06635072 -2.05304831 -2.03795318 -2.03312699 -2.03570226 -2.04291998\n",
      " -2.05393298 -2.06160907 -2.06959382 -2.08024139 -2.09050486 -2.10556246\n",
      " -2.12440644 -2.13909584 -2.15480232 -2.1734596  -2.19599342 -2.2189911\n",
      " -2.23760839 -2.2538242  -2.27009405 -2.28204303 -2.29290201 -2.30355188\n",
      " -2.30588544 -2.30643122 -2.30535303 -2.30398479 -2.30450113 -2.31275273\n",
      " -2.32484361 -2.33256335 -2.34317439 -2.36859979 -2.40744517 -2.44652117\n",
      " -2.4632876  -2.44187867 -2.37344453 -2.25869246 -2.10591529 -1.92540437\n",
      " -1.70057894 -1.44767151 -1.18593607 -0.92046912 -0.67284697 -0.42940903\n",
      " -0.21613586  0.          0.23704948  0.47372203  0.73686858  1.01251877\n",
      "  1.28367664  1.53865373  1.77001115  1.97083727  2.12666216  2.25382048\n",
      "  2.36203677  2.45314587  2.53411598  2.60168781  2.65052314  2.6769133\n",
      "  2.68677582  2.68461403  2.67719902  2.66792322  2.65679903  2.64775762\n",
      "  2.63955287  2.6299815   2.61933918  2.60342271  2.58370604  2.56714923\n",
      "  2.55217453  2.53910303  2.53063585  2.52071431  2.51246192  2.51073648\n",
      "  2.51142439  2.51169222  2.51375046  2.51731705  2.51964357  2.52488377\n",
      "  2.53164089  2.53509395  2.53826609  2.54133782  2.54250262  2.54766545\n",
      "  2.55589224  2.56286372  2.56895195  2.57527346  2.58240385  2.58682912\n",
      "  2.58893666  2.59050896  2.59062233  2.59234131  2.59590596  2.59899733\n",
      "  2.60464086  2.60695156  2.6052133   2.60116916  2.59164711  2.58480098\n",
      "  2.58056335  2.57987818  2.5805112   2.57921133  2.58180605  2.58700292\n",
      "  2.59313932  2.60337159  2.61013691  2.61421339  2.62357892  2.63616704\n",
      "  2.64746034  2.65917545  2.66676773  2.67053346  2.67627591  2.67824101\n",
      "  2.67655403  2.6713405   2.66453806  2.65974493  2.65793759]\n"
     ]
    },
    {
     "data": {
      "image/png": "[encoded data removed]",
      "text/plain": [
       "<Figure size 640x480 with 1 Axes>"
      ]
     },
     "metadata": {},
     "output_type": "display_data"
    }
   ],
   "source": [
    "# Has it actually worked? Let's check out the output from the cell above. \n",
    "#It is a nest that contains two Riser instances...\n",
    "print(instance_list)\n",
    "\n",
    "# For now, let's just look at the first instace. The second is structured in the same way.\n",
    "riser = instance_list[0]\n",
    "# It has many properties, such as the profile names, the riser height, diffusion age, etc.\n",
    "print(riser.name) # Profile name\n",
    "print(riser.best_a) # \"Best-fit\" riser height (from midpoint to crest or toe of riser)\n",
    "print(riser.best_kt) # \"Best-fit\" linear diffusion age\n",
    "# You will notice that the last two parameters are just empty lists. That is because we haven't actually\n",
    "# done the linear diffusion fitting that would calculate both a and kt. The parameters are just pre-allocated.\n",
    "\n",
    "# The only real data that we have at the moment are x and z data from each profile. In riserfit these are referred to\n",
    "# as d (the distance, or x) and z (the elevation). \n",
    "print(riser.d[0]) # we just look at the first entry of the d-list. It is an entire np.ndarray!\n",
    "print(riser.z[0]) # this is also a np.ndarray!\n",
    "\n",
    "# Again, rach entry in any of the parameters of the Riser instance refers to a single profile.\n",
    "# If we want to plot a profile, we can do it this way:\n",
    "profile_id = 0\n",
    "plt.scatter(riser.d[profile_id], riser.z[profile_id], s=5)\n",
    "plt.xlabel(\"Distance [m]\")\n",
    "plt.ylabel(\"Elevation [m]\")\n",
    "plt.show()\n",
    "# (Not the nicest profile...)"
   ]
  }
 ],
 "metadata": {
  "kernelspec": {
   "display_name": "Python 3 (ipykernel)",
   "language": "python",
   "name": "python3"
  },
  "language_info": {
   "codemirror_mode": {
    "name": "ipython",
    "version": 3
   },
   "file_extension": ".py",
   "mimetype": "text/x-python",
   "name": "python",
   "nbconvert_exporter": "python",
   "pygments_lexer": "ipython3",
   "version": "3.9.0"
  }
 },
 "nbformat": 4,
 "nbformat_minor": 5
}
