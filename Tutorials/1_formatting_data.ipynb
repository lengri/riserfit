{
 "cells": [
  {
   "cell_type": "markdown",
   "id": "bff1b872-463d-442b-98c9-bfefcea25262",
   "metadata": {},
   "source": [
    "# Tutorial 1: Formatting data"
   ]
  },
  {
   "cell_type": "markdown",
   "id": "4b8e1042-2498-4458-a9c5-1422737a5a0a",
   "metadata": {},
   "source": [
    "### Formatting data to feed into riserfit\n",
    "This scripts gives an example of how riser profiles can be extracted from a DEM. The files necessary for this tutorial are located in the Tutorials\\Data folder. riserfit provides one big wrapper function to build up riser profiles from DEMs: `rf.construct_z_profiles_from_centerpoints()` should work for most applications. It requires an input DEM file and **a .csv file containing x and y centerpoints at the desired riser locations**. Two examples of such files are supplied in the Data\\Risers\\Midpoints directory. Running `rf.construct_z_profiles_from_centerpoints()` generates a list of pandas dataframes, one for each profile, and a list of names to identify the dataframes.\n",
    "\n",
    "The next step is convert this somewhat annoying list of dataframes into a `rf.Riser` instance. This is the main class of the riserfit package. It has a plethora of methods that work on arbitrarily long lists of riser profiles and thus take a lot of `for`-looping overhead away from the user. For ease of use, this `rf.Riser` instance can be saved to a compressed file and loaded directly, avoiding the need to repreatedly extract profiles from the DEM. It also saves all your progress: if you have calculated linear diffusion ages once and save the `rf.Riser` instance, you can load the instance and access the diffusion ages directly!\n",
    "\n",
    "To make use of this fact, we add some fancy `try`-`except` to our script: If our little script can find the `Riser` instances, there's no need to run `rf.construct_z_profiles_from_centerpoints()`. **Just remember: If you want to change parameters but keep the instance names the same, the script won't actually do anything. You need to delete the old instances first - or rename them!**"
   ]
  },
  {
   "cell_type": "code",
   "execution_count": null,
   "id": "9143d9ce-25d6-484d-b169-52574a21899a",
   "metadata": {},
   "outputs": [],
   "source": [
    "# Some imports\n",
    "import riserfit as rf\n",
    "import os\n",
    "import matplotlib.pyplot as plt"
   ]
  },
  {
   "cell_type": "code",
   "execution_count": null,
   "id": "cc453655-f0f2-446c-9914-fac823821ee0",
   "metadata": {},
   "outputs": [],
   "source": [
    "# set working directory and parameters\n",
    "os.chdir(r\"C:\\\\Users\\\\Lennart\\\\lennartGit\\\\personal\\\\riserfit\\\\Tutorials\")\n",
    "\n",
    "RASTERNAME = r\"\\\\Data\\\\DEM\\\\terraces.tif\"\n",
    "SPACING_DX = 0.5 # in m\n",
    "N_POINTS = 80 # points projected out from the centerpoint. Total n of points is 2*N_POINTS + 1\n",
    "SWATH_NUMBER = 4 # number of parallel lines used to average each profile\n",
    "SWATH_SPACING = 1 # in m\n",
    "\n",
    "# Relative paths to the .csv files containing your midpoint x, y data\n",
    "terraces = [\"T7\", \"T3\"]\n",
    "fnames = [f\"\\\\Data\\\\Risers\\\\Midpoints\\\\midpoints_{t}.csv\" for t in terraces]\n",
    "\n",
    "instance_list = []\n",
    "try: # try to find the riser instances!\n",
    "    \n",
    "    for t in terraces:\n",
    "        \n",
    "        instance_list.append(\n",
    "            rf.load_instance(f\"\\\\Data\\\\Risers\\\\Instances\\\\{t}_Riser_instance.gz\") # this is the default instance name\n",
    "        )\n",
    "    print(\"Found existing Riser instances!\")\n",
    "    \n",
    "except: # Do the heavy lifting\n",
    "    \n",
    "    for t, fn in zip(terraces, fnames):\n",
    "    \n",
    "        # create a list of pandas dataframes, one for each riser profile\n",
    "        dfs, names = rf.construct_z_profiles_from_centerpoints(\n",
    "            rasterpath=RASTERNAME, # relative path from current wd\n",
    "            pointfilepath=fn, # relative path from current wd\n",
    "            n_points=N_POINTS,\n",
    "            spacing=SPACING_DX,\n",
    "            swath_number=SWATH_NUMBER,\n",
    "            swath_spacing=SWATH_SPACING,\n",
    "            smooth_first=True, # this is only used to calculate the steepest gradient, it doesn't affect the profiles!\n",
    "            method=\"linear\", # interpolation method to extract elevation values\n",
    "            savedir=f\"\\\\Data\\\\Risers\\\\Profiles\\\\{t}\\\\\" # where to save the created csv files\n",
    "        )\n",
    "        \n",
    "        # create Riser instance from the list of dataframes\n",
    "        riser = rf.initialize_riser_class(\n",
    "            dfs, \n",
    "            names, \n",
    "            \"x\", # the column name in the df containing x data (easting for UTM)\n",
    "            \"y\", # the column name in the df containing y data (northing for UTM)\n",
    "            identifier=t # the \"name\" of the Riser instance. Used for saving to file\n",
    "        )\n",
    "        # save to .gz file, note that this is now an instance method!\n",
    "        riser.save_instance(\n",
    "            r\"\\\\Data\\\\Risers\\\\Instances\\\\\"\n",
    "        )\n",
    "        instance_list.append(riser)"
   ]
  },
  {
   "cell_type": "markdown",
   "id": "fd829941-ab7d-4003-acd1-ce90cba9d6f1",
   "metadata": {},
   "source": [
    "If you execute the cell above two times, it will only display the processing message the first time. The second time it should display the \"Found existing Riser instances\" message. This setup drastically improves execution times for datasets with many riser profiles and for large DEMs."
   ]
  },
  {
   "cell_type": "markdown",
   "id": "f1ee6cf6-ff59-4175-9111-01c3d536a529",
   "metadata": {},
   "source": [
    "### Data formatting inside riserfit\n",
    "Within riserfit, all data is stored attached to each Riser instance in the form of parameters. Every parameter is a list, every list has the length of `however many profiles there are`. The contents of various lists can be very different: `floats`, `strings`, or more `lists` and/or `np.ndarrays`"
   ]
  },
  {
   "cell_type": "code",
   "execution_count": null,
   "id": "dc45b1b6-941b-45d3-a558-ac3266859bbe",
   "metadata": {},
   "outputs": [],
   "source": [
    "# Have we actually created Riser instances? Let's check out the output from the cell above. \n",
    "#It is a list that contains two Riser instances...\n",
    "print(instance_list)\n",
    "\n",
    "# For now, let's just look at the T3 instance. The second is structured in the same way.\n",
    "riser = instance_list[1]\n",
    "# It has many properties, such as the profile names, the riser height, diffusion age, etc.\n",
    "print(riser.name) # Profile names\n",
    "print(riser.best_a) # \"Best-fit\" riser height (from midpoint to crest or toe of riser)\n",
    "print(riser.best_kt) # \"Best-fit\" linear diffusion age\n",
    "# You will notice that the last two parameters are just empty lists. That is because we haven't actually\n",
    "# done the linear diffusion fitting that would calculate both a and kt. The parameters are just pre-allocated.\n",
    "\n",
    "# The only real data that we have at the moment are x and z data from each profile. In riserfit these are referred to\n",
    "# as d (the distance, or x) and z (the elevation). \n",
    "print(riser.d[0]) # we just look at the first entry of the d-list. It is an entire np.ndarray!\n",
    "print(riser.z[0]) # this is also a np.ndarray!\n",
    "\n",
    "# Again, each entry in any of the parameters of the Riser instance refers to a single profile.\n",
    "# If we want to plot a profile, we can do it this way:\n",
    "\n",
    "# Let's look at a good and a bad example...\n",
    "nice_id = 4 # nice profile\n",
    "not_nice_id = 0 # ugly profile\n",
    "plt.scatter(riser.d[nice_id], riser.z[nice_id], label=\"nice profile\", s=4)\n",
    "plt.scatter(riser.d[not_nice_id], riser.z[not_nice_id], label=\"not so nice profile\", s=4)\n",
    "plt.legend()\n",
    "plt.show()"
   ]
  },
  {
   "cell_type": "markdown",
   "id": "824a6950-3f5e-4aaf-9c1c-222bc30dd5a1",
   "metadata": {},
   "source": [
    "### Exporting data from riserfit\n",
    "Once you have done all your calculations, calculated riser heights, far-field slopes, and diffusion ages, you may want to export all data into a nice .csv file. riserfit also has a solution for this: `rf.Riser.build_Riser_instance_dataframe()`. This function generates a pandas dataframe that can then be exported or otherwise manipulated using the pandas package.\n",
    "\n",
    "Not all data is formatted in a way that allows for extraction into a dataframe. For example, the profile names are simple strings that fit into a csv cell, but the $d$ and $z$ data for each profile are arrays! `build_Riser_instance_dataframe()` automatically excludes data that is not in a sensible format, e.g. lists, np.ndarrays, or dicts. As a result, our exported dataframe is quite empty. We haven't generated any data after all!\n",
    "\n",
    "To show a better example of how this function works, we can add some dummy data! This also showcases a useful functionality: `rf.Riser.add_parameter()`, which creates a new attribute of the desired name."
   ]
  },
  {
   "cell_type": "code",
   "execution_count": null,
   "id": "3a5e8f2b-97d0-4aee-ac9f-885d5af33503",
   "metadata": {},
   "outputs": [],
   "source": [
    "df = riser.build_Riser_instance_dataframe()\n",
    "print(df.head())\n",
    "\n",
    "# add some dummy data\n",
    "important_data = list(range(0, len(riser.name)))\n",
    "riser.add_parameter(\"important_parameter\", important_data)\n",
    "\n",
    "df = riser.build_Riser_instance_dataframe()\n",
    "print(df.head())\n"
   ]
  }
 ],
 "metadata": {
  "kernelspec": {
   "display_name": "Python 3 (ipykernel)",
   "language": "python",
   "name": "python3"
  },
  "language_info": {
   "codemirror_mode": {
    "name": "ipython",
    "version": 3
   },
   "file_extension": ".py",
   "mimetype": "text/x-python",
   "name": "python",
   "nbconvert_exporter": "python",
   "pygments_lexer": "ipython3",
   "version": "3.9.0"
  }
 },
 "nbformat": 4,
 "nbformat_minor": 5
}
