{
 "cells": [
  {
   "cell_type": "markdown",
   "id": "575e1522-ad0e-4286-975c-2e2fbde111f0",
   "metadata": {},
   "source": [
    "# Tutorial 3: Estimating nonlinear diffusion ages"
   ]
  },
  {
   "cell_type": "markdown",
   "id": "e7e54356-8f44-4966-9f89-76042d78ee5f",
   "metadata": {},
   "source": [
    "The last tutorial worked on the assumption of linear hillslope diffusion, i.e.\n",
    "$$ \\frac{\\partial z}{\\partial t} = k\\frac{\\partial^2z}{\\partial x^2}$$.\n",
    "Some predictions of the linear diffusion equation, like convex hillslope forms, do not hold on steep slopes. This is especially relevant for young terrace risers that start out (more or less) at the angle of repose! Because of this, it is also possible to use a nonlinear diffusion equation in riserfit:\n",
    "$$ \\frac{\\partial z}{\\partial t} = \\frac{\\partial}{\\partial x}\\left(K\\frac{\\frac{\\partial z}{\\partial x}}{1-\\left(S_c^{-1}\\frac{\\partial z}{\\partial x}\\right)^2}\\right)$$\n",
    "There are two caveats: First, we still require the parameters inferred from the linear diffusion fitting, because an initial riser shape is needed for the nonlinear algorithm. Second, the nonlinear diffusion equation does not have an analytical solution and a numerical forward model is needed to find a best-fit profile. The numerical solution is pretty unstable, so the computational cost is greatly increased.\n",
    "\n",
    "The two functions needed to infer nonlinear diffusion ages and uncertainties are `rf.Riser.compute_best_nonlinear_diffusion_fit()` and `rf.Riser.calculate_nonlin_t_uncertainty()`"
   ]
  },
  {
   "cell_type": "code",
   "execution_count": null,
   "id": "d698d9fd-0e4b-4c55-91ca-64d8f6c4b260",
   "metadata": {},
   "outputs": [],
   "source": [
    "# Some imports\n",
    "import riserfit as rf\n",
    "import os\n",
    "import matplotlib.pyplot as plt\n",
    "from time import time\n",
    "import numpy as np"
   ]
  },
  {
   "cell_type": "code",
   "execution_count": null,
   "id": "950ac51e-e177-4b1c-b9ed-e2261902e8de",
   "metadata": {},
   "outputs": [],
   "source": [
    "# load the risers from the last notebook\n",
    "os.chdir(r\"C:\\\\Users\\\\Lennart\\\\lennartGit\\\\personal\\\\riserfit\\\\Tutorials\")\n",
    "\n",
    "# load the two riser instances\n",
    "terraces = [\"T7\", \"T3\"]\n",
    "fnames = [f\"\\\\Data\\\\Risers\\\\Instances\\\\{t}_Riser_instance.gz\" for t in terraces]\n",
    "risersT7 = rf.load_instance(fnames[0])\n",
    "risersT3 = rf.load_instance(fnames[1])\n",
    "\n",
    "# calculate nonlinear diffusion ages\n",
    "start = time()\n",
    "risersT7.compute_best_nonlinear_diffusion_fit(\n",
    "    k=1, # If k = 1, we can interpret the results as diffusion ages (kt)\n",
    "    S_c=1, # Critical slope\n",
    "    init_dt=0.25, # Time step size of the forward model\n",
    "    verbose=True,\n",
    "    warning_eps=1. # If any slopes are larger than this value, raise a warning. Good indicator of stability\n",
    ")\n",
    "risersT7.calculate_nonlin_t_uncertainty(\n",
    "    k=1,\n",
    "    S_c=1,\n",
    "    dt=0.05\n",
    ")\n",
    "end = time()\n",
    "print(f\"That took {end - start:.2f} seconds!\")\n",
    "\n",
    "# ... and do the same for T3\n",
    "start = time()\n",
    "risersT3.compute_best_nonlinear_diffusion_fit(\n",
    "    k=1, \n",
    "    S_c=1, \n",
    "    init_dt=0.25, \n",
    "    warning_eps=1.,\n",
    "    verbose=False\n",
    ")\n",
    "risersT3.calculate_nonlin_t_uncertainty(\n",
    "    k=1,\n",
    "    S_c=1,\n",
    "    dt=0.05,\n",
    "    verbose=False\n",
    ")\n",
    "end = time()\n",
    "print(f\"That took {end - start:.2f} seconds!\")"
   ]
  },
  {
   "cell_type": "code",
   "execution_count": null,
   "id": "5a2f506d-e107-4f5c-a398-5a13bb762444",
   "metadata": {},
   "outputs": [],
   "source": [
    "# Let's compare the NONLINEAR diffusion ages of T7 and T3.\n",
    "bins = np.linspace(0, 10, 10)\n",
    "fg, ax = plt.subplots(2, 1)\n",
    "ax[0].hist(\n",
    "    risersT7.nonlin_best_t,\n",
    "    bins=bins\n",
    ");\n",
    "ax[0].set_title(\"T7\") # this is the young terrace!\n",
    "\n",
    "ax[1].hist(\n",
    "    risersT3.nonlin_best_t,\n",
    "    bins=bins\n",
    ");\n",
    "ax[1].set_title(\"T3\") # this one is older!\n",
    "ax[1].set_xlabel(\"Nonlinear diffusion age kt [m^2]\");"
   ]
  },
  {
   "cell_type": "code",
   "execution_count": null,
   "id": "73b048bf-8bd7-4ee5-a687-a61b021a6ec4",
   "metadata": {},
   "outputs": [],
   "source": [
    "# And let's look at the dataframe again:\n",
    "df = risersT7.build_Riser_instance_dataframe()\n",
    "print(df.head())"
   ]
  },
  {
   "cell_type": "code",
   "execution_count": null,
   "id": "ecd4fea0-d9a0-4f89-8241-9a6af0c70b24",
   "metadata": {},
   "outputs": [],
   "source": [
    "# Save the riser instances after our hard work.\n",
    "risersT7.save_instance(r\"\\\\Data\\\\Risers\\\\Instances\\\\\");\n",
    "risersT3.save_instance(r\"\\\\Data\\\\Risers\\\\Instances\\\\\");"
   ]
  }
 ],
 "metadata": {
  "kernelspec": {
   "display_name": "Python 3 (ipykernel)",
   "language": "python",
   "name": "python3"
  },
  "language_info": {
   "codemirror_mode": {
    "name": "ipython",
    "version": 3
   },
   "file_extension": ".py",
   "mimetype": "text/x-python",
   "name": "python",
   "nbconvert_exporter": "python",
   "pygments_lexer": "ipython3",
   "version": "3.9.0"
  }
 },
 "nbformat": 4,
 "nbformat_minor": 5
}
