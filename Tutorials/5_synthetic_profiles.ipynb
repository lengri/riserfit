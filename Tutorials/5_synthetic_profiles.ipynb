{
 "cells": [
  {
   "cell_type": "markdown",
   "id": "8706529b-715d-41b9-846c-93bb81e3d03f",
   "metadata": {},
   "source": [
    "### Tutorial 5: Creating synthetic profiles"
   ]
  },
  {
   "cell_type": "markdown",
   "id": "73b7018e-7f80-4cf0-ad02-8e39c23de163",
   "metadata": {},
   "source": [
    "All tutorials so far have dealt with analysing real datasets, but `riserfit` also has some built-in functionalities for synthetic data analysis.\n",
    "Virtually everything revolving around synthetic data is implemented in `riserfit.RiserPlayground`, a class inheriting its methods from `riserfit.Riser`. It has some additional methods to easily create large sets of synthetic profiles: `riserfit.RiserPlayground.create_profiles_from_parameters()` or to copy profiles directly from an existing `riserfit.Riser` instance: `riserfit.RiserPlayground.load_profiles_from_Riser()`. To test the effects of noise in elevation data, it is possible to add gaussian noise with a user-defined spatial resolution and magnitude to the profiles: `riserfit.RiserPlayground.add_gaussian_z_noise()`."
   ]
  },
  {
   "cell_type": "code",
   "execution_count": null,
   "id": "69d04e69-0e12-4058-b01a-09fd61953a83",
   "metadata": {},
   "outputs": [],
   "source": [
    "# Some imports\n",
    "import riserfit as rf\n",
    "import os\n",
    "import matplotlib.pyplot as plt\n",
    "import numpy as np"
   ]
  },
  {
   "cell_type": "markdown",
   "id": "52c69a35-3823-4092-b08b-e52ac268a61b",
   "metadata": {},
   "source": [
    "In this notebook, we will test the influence of vertical noise on the robustness of diffusion age inversion. We restrict ourselves to linear diffusion to avoid high computation times.\n",
    "\n",
    "We set up the test as follows: We choose three different diffusion ages: 10, 100, and 1000 m^2 and three different levels of noise: 0.05, 0.1, and 0.5 m. We create 100 profiles for each of the specifications and calculate kt. The results are then displayed in the form of histograms."
   ]
  },
  {
   "cell_type": "code",
   "execution_count": null,
   "id": "1422aca7-6572-41db-acf6-19ce2609ed06",
   "metadata": {},
   "outputs": [],
   "source": [
    "# set up the figure\n",
    "fg, ax = plt.subplots(3, 3, layout='constrained')\n",
    "fg2, ax2 = plt.subplots(5, 1, layout='constrained')\n",
    "\n",
    "np.random.seed(1)\n",
    "\n",
    "# loop over diffusion ages:\n",
    "for i, kt in enumerate([10, 100, 1000]):\n",
    "    # loop over noise levels:\n",
    "    for j, sigma in enumerate([0.25, 0.5, 0.75]):\n",
    "\n",
    "        # Create a new riser playground instance\n",
    "        pg = rf.RiserPlayground()\n",
    "\n",
    "        # create profiles\n",
    "        pg.create_profiles_from_parameters(\n",
    "            d=np.arange(-200, 200, 1), # profile distance values, m\n",
    "            kt=[kt]*100, # we want 100 profiles with true diffusion age kt\n",
    "            a=5, # riser height, m\n",
    "            b=0.0, # far-field slope, m/m\n",
    "            theta=0.5, # initial slope, m/m\n",
    "            use_linear=True # create these profiles assuming a linear diffusion model.\n",
    "        )\n",
    "\n",
    "        # add noise with specified amplitude\n",
    "        pg.add_gaussian_z_noise(\n",
    "            dx=10, # spacing of generated noise values, m\n",
    "            std_z=sigma # std of Gaussian distribution, m\n",
    "        )\n",
    "\n",
    "        # perform the linear diffusion fit\n",
    "        pg.compute_best_linear_diffusion_fit(\n",
    "            b_range=(-0.05, 0.05), # range of allowed far-field slopes, m/m\n",
    "            theta_range=(0.5, 0.5), # range of allowed initial slopes, m/m\n",
    "            init_theta=0.5, # initial guess for initial slope (just to prevent a warning in this case)\n",
    "            kt_range=(0, 2000), # it helps to check what a completely degraded riser looks like to determine the upper bound to kt!\n",
    "            verbose=False # do not print results to console\n",
    "        )\n",
    "\n",
    "        # plot some of the profiles, best-fits, and \"true\" shapes\n",
    "        if kt == 10 and sigma == 0.5:\n",
    "            # plot 10 profiles and 5 best-fits...\n",
    "            for k in range(0, 5):\n",
    "                ax2[k].plot(pg.d[k], pg.z[k])\n",
    "                ax2[k].plot(\n",
    "                    pg.d[k], \n",
    "                    rf.analytical_profile(\n",
    "                        pg.d[k], kt, 5, 0, 0.5\n",
    "                    )\n",
    "                )\n",
    "                ax2[k].plot(\n",
    "                    pg.d[k], \n",
    "                    rf.analytical_profile(\n",
    "                        pg.d[k], \n",
    "                        pg.best_kt[k], \n",
    "                        pg.best_a[k], \n",
    "                        pg.best_b[k], \n",
    "                        pg.best_theta[k]\n",
    "                    )\n",
    "                )\n",
    "                ax2[k].text(\n",
    "                    0.01, 0.95, \n",
    "                    f\"best-fit kt: {pg.best_kt[k]:.2f}, theta: {pg.best_theta[k]:.2f}\", \n",
    "                    ha=\"left\", va=\"top\",\n",
    "                    transform=ax2[k].transAxes\n",
    "                )\n",
    "                            \n",
    "            \n",
    "        # calculate mean result\n",
    "        print(f\"True kt: {kt}, sigma: {sigma}, median kt: {np.median(pg.best_kt):.2f}, std kt: {np.std(pg.best_kt):.2f}\")\n",
    "        \n",
    "        # add histogram plot\n",
    "        ax[i,j].hist(pg.best_kt, bins=15)\n",
    "        ax[i,j].axvline(kt, ls=\"dashed\", lw=1, c=\"black\", label=\"True kt\")\n",
    "        ax[i,j].axvline(np.median(pg.best_kt), ls=\"dashed\", lw=1, c=\"red\", label=\"Median kt\")\n",
    "        ax[i,j].set_title(f\"kt: {kt}, s: {sigma}\", fontsize=8)\n",
    "        ax[i,j].legend(frameon=False, loc=\"upper right\", fontsize=8)\n",
    "        #ax[i,j].set_xlim(0.5*kt, 1.5*kt)\n",
    "\n",
    "fg.supxlabel(\"kt [m^2]\", fontsize=10)\n",
    "fg2.supxlabel(\"Distance [m]\", fontsize=10)\n",
    "fg2.supylabel(\"Elevation [m]\", fontsize=10)\n",
    "plt.show()"
   ]
  },
  {
   "cell_type": "markdown",
   "id": "608b6696-bd0a-4814-acc3-22bbfbc6c631",
   "metadata": {},
   "source": [
    "We see the expected patterns: Relative errors are larger for smaller kt, and errors generally are larger for higher sigma.\n",
    "\n",
    "Experimenting with the above experiment can reveal some pitfalls of morphological dating. Here are some things you can try out to make the results significantly worse:\n",
    "\n",
    "1. Increase the upper kt bound (`kt_range`) from 2000 m^2 to 10000 m^2 and observe how the standard deviation in calculated kt changes. Also look at the profiles that are the \"best-fit\" to the actual data. One of them is clearly way off. This is probably because the shape of a riser of high age (> 5000 m^2) only changes very slowly, leading to only minor improvements in misfit as kt changes. This causes our optimization algorithm to terminate early."
   ]
  },
  {
   "cell_type": "code",
   "execution_count": null,
   "id": "8ba31b15-53f3-4000-9660-2a064b0bac58",
   "metadata": {},
   "outputs": [],
   "source": [
    "# Altering the diffusion age by 100 barely changes the shape of the riser profile and thus almost does not change misfit.\n",
    "# Our optimization algorithm thinks that we've found a minimum.\n",
    "\n",
    "d = np.linspace(-200, 200, 100)\n",
    "z1 = rf.analytical_profile(\n",
    "    d, 8000, 5, 0., 0.5\n",
    ")\n",
    "z2 = rf.analytical_profile(\n",
    "    d, 8100, 5, 0., 0.5\n",
    ")\n",
    "\n",
    "plt.plot(d, z1)\n",
    "plt.plot(d, z2)\n",
    "plt.show()"
   ]
  },
  {
   "cell_type": "markdown",
   "id": "c1d58de0-837e-4e87-8488-d1f15691e933",
   "metadata": {},
   "source": [
    "2. Change the initial slope constraint (`theta_range`) to (0.4, 0.6) and observe the results. This time, we systematically underestimate diffusion ages and initial slopes (although we have set the initial guess for theta to the correct value!). This is because there is no unique relationship between riser shape and initial slope for older profiles."
   ]
  },
  {
   "cell_type": "code",
   "execution_count": null,
   "id": "6fa8c57f-49be-4972-8dfb-4c37b651997e",
   "metadata": {},
   "outputs": [],
   "source": [
    "d = np.linspace(-200, 200, 100)\n",
    "z1 = rf.analytical_profile(\n",
    "    d, 100, 5, 0., 0.5 # 100 m^2 old profile with an initial slope of 0.5 m/m\n",
    ")\n",
    "z2 = rf.analytical_profile(\n",
    "    d, 70, 5, 0., 0.3 # 70 m^2 old profile with an initial slope of 0.3 m/m\n",
    ")\n",
    "\n",
    "plt.plot(d, z1)\n",
    "plt.plot(d, z2)\n",
    "plt.show()"
   ]
  },
  {
   "cell_type": "markdown",
   "id": "fa153243-3b21-43e8-851b-c24fc7b3de9a",
   "metadata": {},
   "source": [
    "To conclude, from this synthetic study we can get an understanding of how noise affects our results. We also learned about the importance of having good constraints on all our parameters before we attempt an inversion for diffusion age."
   ]
  }
 ],
 "metadata": {
  "kernelspec": {
   "display_name": "Python 3 (ipykernel)",
   "language": "python",
   "name": "python3"
  },
  "language_info": {
   "codemirror_mode": {
    "name": "ipython",
    "version": 3
   },
   "file_extension": ".py",
   "mimetype": "text/x-python",
   "name": "python",
   "nbconvert_exporter": "python",
   "pygments_lexer": "ipython3",
   "version": "3.9.0"
  }
 },
 "nbformat": 4,
 "nbformat_minor": 5
}
